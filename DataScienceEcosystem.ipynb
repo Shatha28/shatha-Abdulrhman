{
 "cells": [
  {
   "cell_type": "markdown",
   "id": "2581166b",
   "metadata": {},
   "source": [
    "# Data Science Tools and Ecosystem"
   ]
  },
  {
   "cell_type": "markdown",
   "id": "3591009a",
   "metadata": {},
   "source": [
    "In this notebook, Data Science Tools and Ecosystem are summarized."
   ]
  },
  {
   "cell_type": "markdown",
   "id": "3cd8b35d",
   "metadata": {},
   "source": [
    "Some of the popular languages that Data Scientists use are:\n",
    "1. Python\n",
    "2. R\n",
    "3. SQL"
   ]
  },
  {
   "cell_type": "markdown",
   "id": "65dd2cf2",
   "metadata": {},
   "source": [
    "**Objectives:**\n",
    "- List popular languages for Data Science\n",
    "- Understand the basics of Python programming language\n",
    "- Learn how to use Jupyter Notebook for data analysis\n",
    "- Explore different libraries and packages for data manipulation and visualization"
   ]
  },
  {
   "cell_type": "markdown",
   "id": "3878b751",
   "metadata": {},
   "source": [
    "Some of the commonly used libraries used by Data Scientists include:\n",
    "1. NumPy: NumPy is a fundamental library for scientific computing in Python. It provides support for large, multi-dimensional arrays and matrices, along with a collection of mathematical functions to operate on these arrays efficiently. NumPy is widely used for tasks such as data manipulation, numerical computing, and linear algebra.\n",
    "\n",
    "2. Pandas: Pandas is a powerful library for data manipulation and analysis. It provides data structures like DataFrames and Series that allow easy handling of structured data. Pandas offers functionalities to clean, transform, filter, and aggregate data, making it an essential tool for data preprocessing tasks. It also integrates well with other libraries in the Python ecosystem.\n",
    "\n",
    "3. Matplotlib: Matplotlib is a plotting library that enables the creation of various types of visualizations such as line plots, scatter plots, bar plots, histograms, etc. It provides a flexible API to customize the appearance of plots and supports interactive visualization in Jupyter notebooks. Matplotlib is widely used for exploratory data analysis and presentation of results.\n",
    "\n",
    "4. Scikit-learn: Scikit-learn is a machine learning library that offers a wide range of algorithms and tools for classification, regression, clustering, dimensionality reduction, model selection, and evaluation. It provides an intuitive interface to implement machine learning models and includes various preprocessing techniques to handle missing values or scale features. Scikit-learn also supports model evaluation metrics and cross-validation techniques.\n",
    "\n",
    "5. TensorFlow: TensorFlow is an open-source deep learning framework developed by Google Brain. It allows building neural networks using high-level APIs like Keras or low-level APIs for more flexibility. TensorFlow provides efficient computation on both CPUs and GPUs and supports distributed computing across multiple devices or machines. It has become one of the most popular libraries for deep learning applications.\n",
    "\n",
    "6. PyTorch: PyTorch is another popular deep learning framework that emphasizes flexibility and dynamic computation graphs. It offers a seamless integration between Python code and GPU acceleration, making it efficient for training deep neural networks. PyTorch provides a rich set of tools for building and deploying machine learning models, including support for automatic differentiation and distributed training.\n"
   ]
  },
  {
   "cell_type": "markdown",
   "id": "5b43b39e",
   "metadata": {},
   "source": [
    "| Data Science Tools |\n",
    "|-------------------|\n",
    "| Jupyter Notebook  |\n",
    "| RStudio           |\n",
    "| Anaconda          |\n",
    "| Data Science Tools | \n"
   ]
  },
  {
   "cell_type": "markdown",
   "id": "2afea02e",
   "metadata": {},
   "source": [
    "###Below are a few examples of evaluating arithmetic expressions in Python.\n",
    "1. Addition:\n",
    "```\n",
    "result = 5 + 3\n",
    "print(result)  # Output: 8\n",
    "```\n",
    "\n",
    "2. Subtraction:\n",
    "```\n",
    "result = 10 - 4\n",
    "print(result)  # Output: 6\n",
    "```\n",
    "\n",
    "3. Multiplication:\n",
    "```\n",
    "result = 2 * 6\n",
    "print(result)  # Output: 12\n",
    "```\n",
    "\n",
    "4. Division (float):\n",
    "```\n",
    "result = 15 / 4\n",
    "print(result)  # Output: 3.75\n",
    "```\n",
    "\n",
    "5. Division (integer):\n",
    "```\n",
    "result = 15 // 4\n",
    "print(result)  # Output: 3\n",
    "```\n",
    "\n",
    "6. Exponentiation:\n",
    "```\n",
    "result = 2 ** 3\n",
    "print(result)   # Output: 8\n",
    "```\n",
    "\n",
    "7. Modulo (remainder):\n",
    "```\n",
    "result = 17 % 5\n",
    "print(result)   # Output: 2\n",
    "```\n",
    "\n"
   ]
  },
  {
   "cell_type": "code",
   "execution_count": 2,
   "id": "e969fd91",
   "metadata": {},
   "outputs": [
    {
     "data": {
      "text/plain": [
       "17"
      ]
     },
     "execution_count": 2,
     "metadata": {},
     "output_type": "execute_result"
    }
   ],
   "source": [
    "(3*4)+5\n",
    "# This a simple arithmetic expression to mutiply then add integers"
   ]
  },
  {
   "cell_type": "code",
   "execution_count": 4,
   "id": "7e2a36b8",
   "metadata": {},
   "outputs": [
    {
     "data": {
      "text/plain": [
       "3.3333333333333335"
      ]
     },
     "execution_count": 4,
     "metadata": {},
     "output_type": "execute_result"
    }
   ],
   "source": [
    "200 / 60\n",
    "#This will convert 200 minutes to hours by diving by 60"
   ]
  },
  {
   "cell_type": "markdown",
   "id": "cfcd04cc",
   "metadata": {},
   "source": [
    "## Author\n",
    "Shatha Abdulrhman "
   ]
  },
  {
   "cell_type": "code",
   "execution_count": null,
   "id": "b6fb12d0",
   "metadata": {},
   "outputs": [],
   "source": []
  }
 ],
 "metadata": {
  "kernelspec": {
   "display_name": "Python 3 (ipykernel)",
   "language": "python",
   "name": "python3"
  },
  "language_info": {
   "codemirror_mode": {
    "name": "ipython",
    "version": 3
   },
   "file_extension": ".py",
   "mimetype": "text/x-python",
   "name": "python",
   "nbconvert_exporter": "python",
   "pygments_lexer": "ipython3",
   "version": "3.9.12"
  }
 },
 "nbformat": 4,
 "nbformat_minor": 5
}
